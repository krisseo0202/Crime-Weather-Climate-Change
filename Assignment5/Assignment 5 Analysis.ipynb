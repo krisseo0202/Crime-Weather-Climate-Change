{
 "cells": [
  {
   "cell_type": "markdown",
   "metadata": {},
   "source": [
    "### Introduction\n",
    "\n",
    "For Assignment 5, we are looking to test if Berkeley and Livermore have the same weather data. We will first import the necessary functions from the past assignments. Specifically, we import get_almeda_county_points, filter_randon_criteria, clean_data, and get_weather_data. "
   ]
  },
  {
   "cell_type": "code",
   "execution_count": 4,
   "metadata": {},
   "outputs": [
    {
     "name": "stdout",
     "output_type": "stream",
     "text": [
      "/Users/brandonhuang/Desktop/Education/UC Berkeley/STAT 159\n"
     ]
    }
   ],
   "source": [
    "import pandas as pd\n",
    "import numpy as np\n",
    "import matplotlib.pyplot as plt\n",
    "\n",
    "from scipy import stats\n",
    "from permute.core import two_sample\n",
    "\n",
    "import os\n",
    "os.chdir('../')\n",
    "print(os.getcwd())\n",
    "from Assignment2.assignment2 import get_alameda_county_points\n",
    "from Assignment3.assignment3 import filter_ranson_criteria, clean_data, get_weather_data"
   ]
  },
  {
   "cell_type": "markdown",
   "metadata": {},
   "source": [
    "### Capturing Data and Binning\n",
    "\n",
    "\n",
    "We first bin the maximum temperature for the weather stations using Ranson's categories: 0°F-10°F, 10°F-20°F, 20°F-30°F, 30°F-40°F, 40°F-50°F, 50°F-60°F, 60°F-70°F, 70°F-80°F, 80°F-90°F, and 90°F-100°F. We do this through the fuctions get_data() and get_city_data(df, id, element='TMAX'). Then we convert the data points to fahrenheit using convert_to_fahrenheit(df). "
   ]
  },
  {
   "cell_type": "code",
   "execution_count": 5,
   "metadata": {},
   "outputs": [],
   "source": [
    "def get_data():\n",
    "    \"\"\" Return DataFrame containing weather data in Alameda county based on Ranson's criteria\n",
    "    return:\n",
    "        DataFrame: weather data\n",
    "    \"\"\"\n",
    "    points = get_alameda_county_points()\n",
    "    return filter_ranson_criteria(clean_data(get_weather_data(points)))\n",
    "\n",
    "def get_city_data(df, id, element='TMAX'):\n",
    "    \"\"\" Return a DataFrame that is filtered by element and ID\n",
    "    return:\n",
    "        DataFrame: weather data\n",
    "    \"\"\"\n",
    "    hcn_city = df[df['ID'] == id]\n",
    "    return hcn_city[hcn_city['ELEMENT'] == element]\n",
    "\n",
    "def convert_to_fahrenheit(df):\n",
    "    \"\"\" Return a DataFrame that converts DATA VALUE to FAHRENHEIT\n",
    "    return:\n",
    "        DataFrame: weather data\n",
    "    \"\"\"\n",
    "    df['FAHRENHEIT'] = ((df['DATA VALUE'] / 10) * 1.8) + 32\n",
    "    return df\n",
    "\n",
    "def bin_data(df):\n",
    "    \"\"\" Return a DataFrame that groups the data by year and month and bins FAHRENHEIT\n",
    "    return:\n",
    "        DataFrame: binned weather data\n",
    "    \"\"\"\n",
    "    grouped_df = df.groupby(['year', 'month', pd.cut(df['FAHRENHEIT'], range(0, 110, 10))])\n",
    "    return grouped_df.size().unstack().sort_index(axis = 1).fillna(0.0)"
   ]
  },
  {
   "cell_type": "markdown",
   "metadata": {},
   "source": [
    "### Intersecting Livermore's and Berkeley's DataFrame\n",
    "\n",
    "The above creates the initial data frame that bins the maximum temperature. To perform a two sample test, the length of the data sets have to be the same. Since Livermore contains more data than Berkeley, we use get_intersected to shorten Livermore's data to match Berkley's data frame. Essentially, we create one data frame with both Berkeley's data frame and Livermore's data frame. We then split the data frame into two. The intersection formula is denoted below."
   ]
  },
  {
   "cell_type": "code",
   "execution_count": 6,
   "metadata": {},
   "outputs": [],
   "source": [
    "def get_intersected(df1, df2, intersect_on='date'):\n",
    "    \"\"\" Returns two DataFrames that include only rows which have the same intersect_on values\n",
    "    return:\n",
    "        DataFrame: filtered weather data\n",
    "        DataFrame: filtered weather data\n",
    "    \"\"\"\n",
    "    intersection = np.intersect1d(df1[intersect_on], df2[intersect_on])\n",
    "    return df1[df1[intersect_on].isin(intersection)], df2[df2[intersect_on].isin(intersection)]"
   ]
  },
  {
   "cell_type": "markdown",
   "metadata": {},
   "source": [
    "### Stratification \n",
    "\n",
    "**What did you stratify on? Why is that a good choice? Why stratify at all?**\n",
    "\n",
    "After we have both dataframes, we stratify the data by year and month. We believe that these are good stratas because they are mutually exclusive and collectively exhaustive. Furthermore, this accounts for climate change. On a larger yearly scope, this accounts for global warming. On a smaller monthly scope, this accounts for seasonality. "
   ]
  },
  {
   "cell_type": "code",
   "execution_count": 7,
   "metadata": {},
   "outputs": [],
   "source": [
    "def stratify(df, by=['year', 'month']):\n",
    "    \"\"\" Returns a list of DataFrame that are the groups from the by criteria\n",
    "    return:\n",
    "        List[DataFrame]: grouped weather data\n",
    "    \"\"\"\n",
    "    df_grouped = df.groupby(by)\n",
    "    return [df_grouped.get_group(group) for group in df_grouped.groups]"
   ]
  },
  {
   "cell_type": "markdown",
   "metadata": {},
   "source": [
    "### Chi-Squared Distribution \n",
    "\n",
    "**Can you use the chi-square distribution to calibrate the test? Why or why not?**\n",
    "\n",
    "After the stratification of the data, we use the fisher combining formula. The value from the formula is chi-square distributed therefore you can use chi-square distribution to calibrate the test. We can then use a chi-squared distribution to determine how well our data's distribution compares to a normal, binomial, or poisson distribution. \n",
    "\n",
    "From there, we calculate the p-value. Below is the function for the above process."
   ]
  },
  {
   "cell_type": "code",
   "execution_count": 8,
   "metadata": {},
   "outputs": [],
   "source": [
    "def permutation_test(a, b):\n",
    "    \"\"\" Returns p-value for a two-sided two sample permutation test using Fisher combining function\n",
    "    return:\n",
    "        Double: p-value of the chi squared statistic\n",
    "    \"\"\"\n",
    "    min_p = 10 ** -20\n",
    "    fisher_statistic = 0.0\n",
    "    \n",
    "    for stratum in range(len(a)):\n",
    "        p, _ = two_sample(a[stratum]['FAHRENHEIT'], b[stratum]['FAHRENHEIT'], alternative='two-sided')\n",
    "        print('Finished stratum %d got p-value %f' % (stratum, p))\n",
    "        fisher_statistic += -2 * np.log(max(p, min_p))\n",
    "\n",
    "    return 1 - stats.chi2.cdf(fisher_statistic, 2 * len(a))"
   ]
  },
  {
   "cell_type": "markdown",
   "metadata": {},
   "source": [
    "### Taking into Account Simulation Uncertainty \n",
    "\n",
    "**Discuss how to take into account simulation uncertainty in estimating the overall P-value**\n",
    "\n",
    "To reduce uncertainty in estimating the overall p-value, we can generate PRNG on the data for certain amount of times until p-values converge or use bias-correction as Ranson mentioned. \n",
    "Essentially, using the two-sample function provided by Professor Stark."
   ]
  },
  {
   "cell_type": "markdown",
   "metadata": {},
   "source": [
    "### Conclusion\n",
    "\n",
    "**Discuss what your findings mean for Ranson's approach**\n",
    "\n",
    "Since our findings include a p-value that is lower than alpha, we must reject the null hypothesis. Therefore, we conclude that the weather in Livermore and in Berkeley is not the same. In Ranson's paper, he assumed that the weather within a county is the same. However, this is not the case according to our findings. \n",
    "\n",
    "Since Ranson assumed that the weather within a county is the same, his results could be misleading. Mainly, the positive correlation between crime rate and high temperature could be exagerrated since the cities within a county could have differing temperatures. The vice versa holds true also. "
   ]
  },
  {
   "cell_type": "markdown",
   "metadata": {},
   "source": [
    "### Appendix"
   ]
  },
  {
   "cell_type": "code",
   "execution_count": null,
   "metadata": {},
   "outputs": [
    {
     "name": "stdout",
     "output_type": "stream",
     "text": [
      "/Users/brandonhuang/Desktop/Education/UC Berkeley\n"
     ]
    }
   ],
   "source": [
    "import os\n",
    "os.chdir('../')\n",
    "print(os.getcwd())\n",
    "\n",
    "if __name__ == '__main__':\n",
    "    # get data from ranson's criteria\n",
    "    df = get_data()\n",
    "    \n",
    "    # get data for berkeley and livermore\n",
    "    berkeley = get_city_data(df, 'USC00040693')\n",
    "    livermore = get_city_data(df, 'USC00044997')\n",
    "\n",
    "    # add fahrenheit column\n",
    "    berkeley = convert_to_fahrenheit(berkeley)\n",
    "    livermore = convert_to_fahrenheit(livermore)\n",
    "\n",
    "    # bin data\n",
    "    berkeley_bins = bin_data(berkeley)\n",
    "    livermore_bins = bin_data(livermore)\n",
    "\n",
    "    # H0: Berkeley and Livermore have the same weather.\n",
    "    # H1: Berkeley and Livermore have different weather.\n",
    "    \n",
    "    # select only dates that exist in both cities\n",
    "    berkeley_intersected, livermore_intersected = get_intersected(berkeley, livermore)\n",
    "\n",
    "    # stratify by month\n",
    "    berkeley_stratified = stratify(berkeley_intersected)\n",
    "    livermore_stratified = stratify(livermore_intersected)\n",
    "\n",
    "    # get p-value from permutation test using fisher combining function\n",
    "    fisher_statistic = 0.0\n",
    "    p = permutation_test(berkeley_stratified, livermore_stratified)\n",
    "    print('P-value under H0: Berkeley and Livermore have the same weather is %f' % p)"
   ]
  },
  {
   "cell_type": "code",
   "execution_count": null,
   "metadata": {},
   "outputs": [],
   "source": []
  }
 ],
 "metadata": {
  "kernelspec": {
   "display_name": "Python 3",
   "language": "python",
   "name": "python3"
  },
  "language_info": {
   "codemirror_mode": {
    "name": "ipython",
    "version": 3
   },
   "file_extension": ".py",
   "mimetype": "text/x-python",
   "name": "python",
   "nbconvert_exporter": "python",
   "pygments_lexer": "ipython3",
   "version": "3.6.5"
  }
 },
 "nbformat": 4,
 "nbformat_minor": 2
}
