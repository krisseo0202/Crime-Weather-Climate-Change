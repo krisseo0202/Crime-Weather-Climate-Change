{
 "cells": [
  {
   "cell_type": "markdown",
   "metadata": {},
   "source": [
    "# Assignment 4 Analysis"
   ]
  },
  {
   "cell_type": "code",
   "execution_count": 10,
   "metadata": {},
   "outputs": [],
   "source": [
    "import os\n",
    "import sys\n",
    "import re\n",
    "import numpy as np\n",
    "import pandas as pd\n",
    "import matplotlib.pyplot as plt\n",
    "%matplotlib inline\n",
    "import reverse_geocoder as rg\n",
    "import geopy\n",
    "import geopy.distance as gd\n",
    "from geopy.distance import vincenty\n",
    "from geopy.geocoders import Nominatim\n",
    "\n",
    "geolocator = Nominatim(user_agent = \"andrewtan-stat159\")\n",
    "sys.path.insert(0, '/Users/andrewtan/stat159/cwcc-g11/')"
   ]
  },
  {
   "cell_type": "markdown",
   "metadata": {},
   "source": [
    "In this assignment, we split Alameda County into West Alameda and East Alameda based on the 2 zipcodes 94552 and 94539. The points we're interested in classifying are the same Alameda County grid points we collected in Assignment 2. All points in or west of those 2 zipcodes are considered West Alameda. All points east of those 2 zipcodes are considered East Alameda. Given these 2 new sets of grid points, repeat the procedures from Assignments 2 and 3 for East Alameda and West Alameda separately. It took two key steps to divide the grid points into east and west. First, we found the westernmost point of East Alameda (border_west) and the easternmost point of West Alameda (border_east) using Google Maps. All points to the west of border_west are considered West Alameda, and all points to the east of this border_east are considered East Alameda. For points that lie between border_west and border_east, we looked up their zipcodes using geolocator and manually checked if they are east or west of the divider. One point did not produce a zipcode, so we visually checked its location on Google Maps."
   ]
  },
  {
   "cell_type": "markdown",
   "metadata": {},
   "source": [
    "### Import Functions\n",
    "\n",
    "Get functions from previous assignments."
   ]
  },
  {
   "cell_type": "code",
   "execution_count": 2,
   "metadata": {},
   "outputs": [],
   "source": [
    "# from Assignment 2\n",
    "\n",
    "def get_alameda_county_points():\n",
    "    \"\"\" Calculates all the grid points (lat, lon) inside Alameda County\n",
    "    Grid automatically includes Summit Reservoir (37.905098, -122.272225)\n",
    "    Begin at northwest corner of bounding box and move in increment of 5 miles\n",
    "    in the south and east directions until we reach the southeast corner,\n",
    "    recording all grid points that fall inside Alameda County.\n",
    "\n",
    "    return:\n",
    "        list: list of (lat, lon) points inside Alameda County\n",
    "    \"\"\"\n",
    "    # bounding box around Alameda County\n",
    "    north = 38\n",
    "    west = -122.4\n",
    "    south = 37.4\n",
    "    east = -121.4\n",
    "\n",
    "    # grid automatically includes Summit Reservoir (37.905098, -122.272225)\n",
    "    grid_points = [(37.905098, -122.272225)]\n",
    "    curr = [north, west]\n",
    "\n",
    "    # while current point is within the north / south bounds\n",
    "    while curr[0] > south:\n",
    "        # dynamically update lat and lon increment based on curr point\n",
    "        destE = vincenty(miles=5).destination(curr, 90) # point 5 miles east of curr\n",
    "        lon_increment = destE.longitude - curr[1]\n",
    "        destS = vincenty(miles=5).destination(curr, 180) # point 5 miles south of curr\n",
    "        lat_increment = curr[0] - destS.latitude\n",
    "\n",
    "        # while current point is within the east / west bounds\n",
    "        while curr[1] < east:\n",
    "            if (rg.search(curr)[0]['admin2'] == \"Alameda County\"):\n",
    "                grid_points.append(tuple(curr))\n",
    "            curr[1] += lon_increment\n",
    "        curr[0] -= lat_increment\n",
    "        curr[1] = west\n",
    "\n",
    "    return grid_points\n",
    "\n",
    "\n",
    "def get_stations(grid_points, max_distance=10):\n",
    "    \"\"\" Find all weather stations within max_distance (miles) from each of the grid points\n",
    "\n",
    "    args:\n",
    "        grid_points: list of grid points (lat, lon)\n",
    "        max_distance: max distance to search around each grid point (default 10)\n",
    "    return:\n",
    "        list: list of weather stations (Series objects)\n",
    "    \"\"\"\n",
    "    \n",
    "    print(os.getcwd())\n",
    "    station_data = pd.read_csv('Assignment2/data/stations_ca.csv')\n",
    "\n",
    "    seen_stations = set()\n",
    "    stations = []\n",
    "\n",
    "    for point in grid_points:\n",
    "        for index, station in station_data.iterrows():\n",
    "            station_pos = (station['LATITUDE'], station['LONGITUDE'])\n",
    "            if gd.vincenty(point, station_pos).miles <= max_distance and index not in seen_stations:\n",
    "                seen_stations.add(index)\n",
    "                stations.append(station)\n",
    "    \n",
    "    return stations\n",
    "\n",
    "\n",
    "def get_station_weights(grid_points, max_distance=10):\n",
    "    \"\"\" Returns a list of weights corresponding to all the weather stations around grid points\n",
    "\n",
    "    args:\n",
    "        grid_points: list of grid points (lat, lon)\n",
    "        max_distance: max distance to search around each grid point (default 10) \n",
    "    return:\n",
    "        list: list of station weights (floats), one for each station\n",
    "    \"\"\"\n",
    "    stations = get_stations(grid_points, max_distance)\n",
    "    station_pos = [(station['LATITUDE'], station['LONGITUDE']) for station in stations]\n",
    "    station_weights = calc_inv_weighted_avg(grid_points, station_pos)\n",
    "    return station_weights"
   ]
  },
  {
   "cell_type": "code",
   "execution_count": 3,
   "metadata": {},
   "outputs": [],
   "source": [
    "# generate Alameda County grid points\n",
    "grid_points = get_alameda_county_points()\n",
    "print(len(grid_points))\n",
    "stations = get_stations(grid_points, max_distance=10)\n",
    "print(len(stations))\n",
    "station_weights = get_station_weights(grid_points, stations, max_distance=10)\n",
    "print(len(station_weights))"
   ]
  },
  {
   "cell_type": "code",
   "execution_count": 4,
   "metadata": {},
   "outputs": [],
   "source": [
    "zip1 = 94552\n",
    "zip2 = 94539\n",
    "border_west = -122.06 # westernmost point of \"East Alameda\", points to the left are in West Alameda\n",
    "border_east = -121.82 # easternmost point in \"West Alameda\", points to the right are in East Alameda"
   ]
  },
  {
   "cell_type": "code",
   "execution_count": 5,
   "metadata": {},
   "outputs": [],
   "source": [
    "# Alameda County grid points copied from Assignment 2\n",
    "grid_points = [(37.905098, -122.272225), (37.855007660508896, -122.30856533862595), (37.855007660508896, -122.2171306772519), (37.78251014815997, -122.30865472093605), (37.78251014815997, -122.21730944187209), (37.78251014815997, -121.7605830465523), (37.710011741493524, -122.30874378331349), (37.710011741493524, -122.21748756662697), (37.710011741493524, -122.12623134994045), (37.710011741493524, -122.03497513325394), (37.710011741493524, -121.94371891656742), (37.710011741493524, -121.8524626998809), (37.710011741493524, -121.76120648319439), (37.710011741493524, -121.66995026650787), (37.6375124410803, -122.12649758092323), (37.6375124410803, -122.03533010789764), (37.6375124410803, -121.94416263487204), (37.6375124410803, -121.85299516184645), (37.6375124410803, -121.76182768882086), (37.6375124410803, -121.67066021579527), (37.56501224749678, -122.12676285938359), (37.56501224749678, -122.03568381251145), (37.56501224749678, -121.94460476563931), (37.56501224749678, -121.85352571876717), (37.56501224749678, -121.76244667189503), (37.56501224749678, -121.6713676250229), (37.56501224749678, -121.58028857815076), (37.492511161325226, -122.03603625190428), (37.492511161325226, -121.94504531488035)]\n",
    "grid_points = np.array(grid_points)"
   ]
  },
  {
   "cell_type": "code",
   "execution_count": 6,
   "metadata": {},
   "outputs": [
    {
     "data": {
      "text/plain": [
       "<matplotlib.collections.PathCollection at 0x10c7738d0>"
      ]
     },
     "execution_count": 6,
     "metadata": {},
     "output_type": "execute_result"
    },
    {
     "data": {
      "image/png": "[encoded data removed]",
      "text/plain": [
       "<Figure size 432x288 with 1 Axes>"
      ]
     },
     "metadata": {
      "needs_background": "light"
     },
     "output_type": "display_data"
    }
   ],
   "source": [
    "plt.scatter(grid_points[:, 1], grid_points[:, 0])"
   ]
  },
  {
   "cell_type": "markdown",
   "metadata": {},
   "source": [
    "## Divide Alameda County to West and East\n",
    "\n",
    "We split Alameda County into West Alameda and East Alameda based on the 2 zipcodes 94552 and 94539. The points we're interested in classifying are the same Alameda County grid points we collected in Assignment 2. All points in or west of those 2 zipcodes are considered West Alameda. All points east of those 2 zipcodes are considered East Alameda. Given these 2 new sets of grid points, repeat the procedures from Assignments 2 and 3 for East Alameda and West Alameda separately. It took two key steps to divide the grid points into east and west. First, we found the westernmost point of East Alameda (border_west) and the easternmost point of West Alameda (border_east) using Google Maps. All points to the west of border_west are considered West Alameda, and all points to the east of this border_east are considered East Alameda. For points that lie between `border_west` and `border_east`, we looked up their zipcodes using geolocator and manually checked if they are east or west of the divider. One point did not produce a zipcode, so we visually checked its location on Google Maps.\n",
    "\n",
    "The 11 points between -122.1 and -121.8 in the above plot are the 11 points that lie between `border_west` and `border_east`. Of these points, 10 produced zip codes based on geolocator. For these 10 zip codes, we checked to see if they belonged to West or East Alameda. We stored this information in a dictionary called `zip_loc`. One point located at (37.63751244, -121.94416263) did not have a zip code. For this point, we checked Google Maps to confirm that it was Kilkare Woods and belonged to zipcode 94552, which is part of West Berkeley. From our analysis, we categorized 17 / 29 points as West Berkeley and 12 / 29 points as East Berkeley. We converted this into a function `divide_alameda_points` and put it into `assignment4.py`."
   ]
  },
  {
   "cell_type": "code",
   "execution_count": 15,
   "metadata": {},
   "outputs": [
    {
     "name": "stdout",
     "output_type": "stream",
     "text": [
      "17\n",
      "12\n"
     ]
    }
   ],
   "source": [
    "zip_loc = {\n",
    "    'west': [94539, 94552, 94544, 94536, 94537, 94538],\n",
    "    'east': [94568, 94566, 94586]\n",
    "}\n",
    "\n",
    "west_alameda = []\n",
    "east_alameda = []\n",
    "\n",
    "for point in grid_points:\n",
    "    if point[1] < border_west:\n",
    "        west_alameda.append(point)\n",
    "    elif point[1] > border_east:\n",
    "        east_alameda.append(point)\n",
    "    else:\n",
    "        try:\n",
    "            unknown_zip = int(re.findall(r'\\d+', geolocator.reverse(point).raw['address']['postcode'])[0])\n",
    "            if unknown_zip in zip_loc['west']:\n",
    "                west_alameda.append(point)\n",
    "            elif unknown_zip in zip_loc['east']:\n",
    "                east_alameda.append(point)\n",
    "            else:\n",
    "                print('Exception:', point, 'not accounted for.')\n",
    "        except:\n",
    "            unknown_hamlet = geolocator.reverse(point).raw['address']['hamlet']\n",
    "            if unknown_hamlet == 'Kilkare Woods':\n",
    "                west_alameda.append(point)\n",
    "            else:\n",
    "                print('Exception:', point, 'not accounted for.')\n",
    "        continue\n",
    "            \n",
    "print(len(west_alameda))\n",
    "print(len(east_alameda))"
   ]
  },
  {
   "cell_type": "code",
   "execution_count": 16,
   "metadata": {},
   "outputs": [
    {
     "data": {
      "text/plain": [
       "94550"
      ]
     },
     "execution_count": 16,
     "metadata": {},
     "output_type": "execute_result"
    }
   ],
   "source": [
    "int(re.findall(r'\\d+', geolocator.reverse('37.6017° N, 121.7135° W').raw['address']['postcode'])[0])"
   ]
  },
  {
   "cell_type": "code",
   "execution_count": 17,
   "metadata": {},
   "outputs": [
    {
     "data": {
      "text/plain": [
       "Location(20356, Hunters Knolls, Fairview, Alameda County, California, 94552, USA, (37.7094578736719, -122.035068599195, 0.0))"
      ]
     },
     "execution_count": 17,
     "metadata": {},
     "output_type": "execute_result"
    }
   ],
   "source": [
    "geolocator.reverse((37.71001174, -122.03497513))"
   ]
  },
  {
   "cell_type": "code",
   "execution_count": 18,
   "metadata": {},
   "outputs": [
    {
     "data": {
      "text/plain": [
       "'Kilkare Woods'"
      ]
     },
     "execution_count": 18,
     "metadata": {},
     "output_type": "execute_result"
    }
   ],
   "source": [
    "geolocator.reverse((37.63751244, -121.94416263)).raw['address']['hamlet']"
   ]
  }
 ],
 "metadata": {
  "kernelspec": {
   "display_name": "Python 3",
   "language": "python",
   "name": "python3"
  },
  "language_info": {
   "codemirror_mode": {
    "name": "ipython",
    "version": 3
   },
   "file_extension": ".py",
   "mimetype": "text/x-python",
   "name": "python",
   "nbconvert_exporter": "python",
   "pygments_lexer": "ipython3",
   "version": "3.6.8"
  }
 },
 "nbformat": 4,
 "nbformat_minor": 2
}
