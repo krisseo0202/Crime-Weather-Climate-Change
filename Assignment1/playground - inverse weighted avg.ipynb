{
 "cells": [
  {
   "cell_type": "code",
   "execution_count": 5,
   "metadata": {},
   "outputs": [
    {
     "name": "stderr",
     "output_type": "stream",
     "text": [
      "E\n",
      "======================================================================\n",
      "ERROR: /Users/krisseo/Library/Jupyter/runtime/kernel-6b36a6d4-150b-4b14-ab07-667b1b3864e6 (unittest.loader._FailedTest)\n",
      "----------------------------------------------------------------------\n",
      "AttributeError: module '__main__' has no attribute '/Users/krisseo/Library/Jupyter/runtime/kernel-6b36a6d4-150b-4b14-ab07-667b1b3864e6'\n",
      "\n",
      "----------------------------------------------------------------------\n",
      "Ran 1 test in 0.001s\n",
      "\n",
      "FAILED (errors=1)\n"
     ]
    },
    {
     "ename": "SystemExit",
     "evalue": "True",
     "output_type": "error",
     "traceback": [
      "An exception has occurred, use %tb to see the full traceback.\n",
      "\u001b[0;31mSystemExit\u001b[0m\u001b[0;31m:\u001b[0m True\n"
     ]
    },
    {
     "name": "stderr",
     "output_type": "stream",
     "text": [
      "/Users/krisseo/anaconda3/lib/python3.6/site-packages/IPython/core/interactiveshell.py:2971: UserWarning: To exit: use 'exit', 'quit', or Ctrl-D.\n",
      "  warn(\"To exit: use 'exit', 'quit', or Ctrl-D.\", stacklevel=1)\n"
     ]
    }
   ],
   "source": [
    "from weighted_avg import calc_inv_weighted_avg\n",
    "from weighted_avg import calc_lat_long_distance\n",
    "import unittest\n",
    "import numpy as np\n",
    "\n",
    "\n",
    "class TestInvWeightedAvgMethod(unittest.TestCase): #create unit test\n",
    "    \n",
    "    def test_inv(self):\n",
    "        l = [(1, 2), (2,3)] #create two list \n",
    "        k = [(4, 5), (5,6)]\n",
    "        m = [(10.234,20.32), (10.234,20.32)]\n",
    "        self.assertEqual(calc_inv_weighted_avg(l, k), 0.002253182974989592) #test function \n",
    "        self.assertEqual(calc_inv_weighted_avg(m,m), 1.0) # For zero distance, the weight should be equal to 1 since it\n",
    "                                                        # is weighting itself.\n",
    "        \n",
    "if __name__ == '__main__':\n",
    "    unittest.main()\n"
   ]
  },
  {
   "cell_type": "code",
   "execution_count": 6,
   "metadata": {},
   "outputs": [],
   "source": [
    "def calc_inv_weighted_avg2(list1, list2):\n",
    "    \"\"\" Calculating inverse weighted average. List 1 can be interpreted as points of weather stations\n",
    "    and list 2 can be interpreted as points within the county\n",
    "    Returns to the inverse weighted average value.\n",
    "    \"\"\"\n",
    "    MIN = .0000001\n",
    "    station_values = []\n",
    "    for idx in range(len(list2)):\n",
    "        mean_distance = np.mean([calc_lat_long_distance(point, list2[idx]) for point in list1])\n",
    "        station_values.append(1 / max(mean_distance, MIN))\n",
    "\n",
    "    return station_values, np.mean(station_values)\n",
    "\n",
    "def calc_inv_weighted_avg3(list1, list2):\n",
    "    \"\"\" Calculating inverse weighted average. List 1 can be interpreted as points of weather stations\n",
    "    and list 2 can be interpreted as points within the county\n",
    "    Returns to the inverse weighted average value.\n",
    "    \"\"\"\n",
    "    dist = [calc_lat_long_distance(pt1,pt2) for pt1 in list1 for pt2 in list2]\n",
    "    wi = [1.0/d if d !=0 else 1.0 for d in dist]\n",
    "\n",
    "    return np.mean(wi)\n",
    "\n",
    "def calc_inv_weighted_avg(list1, list2):\n",
    "    \"\"\" Calculating inverse weighted average. List 1 can be interpreted as points of weather stations\n",
    "    and list 2 can be interpreted as points within the county\n",
    "    Returns to the list of inverse weighted average value.\n",
    "    \"\"\"\n",
    "    station_values = []\n",
    "    for idx in range(len(list2)):\n",
    "        distance = [calc_lat_long_distance(point, list2[idx]) if calc_lat_long_distance != 0 else 1  for point in list1]\n",
    "        mean_distance = np.mean(distance)\n",
    "        station_values.append(1 / mean_distance)\n",
    "\n",
    "    return station_values"
   ]
  },
  {
   "cell_type": "code",
   "execution_count": 7,
   "metadata": {},
   "outputs": [],
   "source": [
    "l = [(1, 2), (2,3)] #create two list \n",
    "k = [(4, 5), (5,6)]\n",
    "m = [(10.234,20.32), (10.234,20.32)]"
   ]
  },
  {
   "cell_type": "code",
   "execution_count": 8,
   "metadata": {},
   "outputs": [
    {
     "name": "stdout",
     "output_type": "stream",
     "text": [
      "[0.0025444046775478053, 0.0018179231595256797]\n",
      "0.002253182974989592\n",
      "1.0\n"
     ]
    }
   ],
   "source": [
    "\n",
    "print(calc_inv_weighted_avg(l,k))\n",
    "print(calc_inv_weighted_avg3(l,k))\n",
    "print(calc_inv_weighted_avg3(m,m))"
   ]
  },
  {
   "cell_type": "code",
   "execution_count": null,
   "metadata": {},
   "outputs": [],
   "source": []
  }
 ],
 "metadata": {
  "kernelspec": {
   "display_name": "Python 3",
   "language": "python",
   "name": "python3"
  },
  "language_info": {
   "codemirror_mode": {
    "name": "ipython",
    "version": 3
   },
   "file_extension": ".py",
   "mimetype": "text/x-python",
   "name": "python",
   "nbconvert_exporter": "python",
   "pygments_lexer": "ipython3",
   "version": "3.6.5"
  }
 },
 "nbformat": 4,
 "nbformat_minor": 2
}
