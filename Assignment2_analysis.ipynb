{
 "cells": [
  {
   "cell_type": "code",
   "execution_count": 1,
   "metadata": {},
   "outputs": [],
   "source": [
    "import time\n",
    "from geopy.geocoders import Nominatim \n",
    "import reverse_geocoder as rg\n",
    "import pandas as pd\n",
    "import geopy.distance as gd\n",
    "from math import sin, cos, sqrt, atan2, radians\n",
    "from geopy.distance import vincenty\n",
    "import numpy as np\n",
    "import sys\n",
    "import matplotlib.pyplot as plt\n",
    "sys.path.insert(0, '../Assignment1/')\n",
    "from weighted_avg import calc_inv_weighted_avg"
   ]
  },
  {
   "cell_type": "markdown",
   "metadata": {},
   "source": [
    "We implemented the grid of points within Alameda County by encapsulating the county within latitude / longitude borders and using the `reverse_geocoder` library to check whether points are in the county. We started with the given point near Summit Reservoir, and iterated 5 miles in the proper directions, updating the change in latitude / longitude every time based on the current point using `geopy.distance.vincenty`, which is one method of calculating geodesic distance.\n",
    "\n",
    "The algorithm ends when the point passes the southern and eastern borders that we designated."
   ]
  },
  {
   "cell_type": "code",
   "execution_count": 2,
   "metadata": {},
   "outputs": [],
   "source": [
    "def get_alameda_county_points():\n",
    "    \"\"\" Calculates all the grid points (lat, lon) inside Alameda County\n",
    "    Grid automatically includes Summit Reservoir (37.905098, -122.272225)\n",
    "    Begin at northwest corner of bounding box and move in increment of 5 miles\n",
    "    in the south and east directions until we reach the southeast corner,\n",
    "    recording all grid points that fall inside Alameda County.\n",
    "\n",
    "    return:\n",
    "        list: list of (lat, lon) points inside Alameda County\n",
    "    \"\"\"\n",
    "\n",
    "    # bounding box around Alameda County\n",
    "    north = 38\n",
    "    west = -122.4\n",
    "    south = 37.4\n",
    "    east = -121.4\n",
    "    \n",
    "    \n",
    "\n",
    "    # grid automatically includes Summit Reservoir (37.905098, -122.272225)\n",
    "    grid = [(37.905098, -122.272225)]\n",
    "    curr = [north, west]\n",
    "\n",
    "    # while current point is within the north / south bounds\n",
    "    while curr[0] > south:\n",
    "        destE = vincenty(miles=5).destination(curr, 90) # point 5 miles east of curr\n",
    "        lon_increment = destE.longitude - curr[1]\n",
    "        \n",
    "        destS = vincenty(miles=5).destination(curr, 180) # point 5 miles south of curr\n",
    "        lat_increment = curr[0] - destS.latitude\n",
    "        \n",
    "        # while current point is within the east / west bounds\n",
    "        while curr[1] < east:\n",
    "            if (rg.search(curr)[0]['admin2'] == \"Alameda County\"):\n",
    "                grid.append(tuple(curr))\n",
    "            curr[1] += lon_increment\n",
    "        curr[0] -= lat_increment\n",
    "        curr[1] = west\n",
    "\n",
    "    return grid"
   ]
  },
  {
   "cell_type": "code",
   "execution_count": 3,
   "metadata": {},
   "outputs": [
    {
     "name": "stdout",
     "output_type": "stream",
     "text": [
      "Loading formatted geocoded file...\n"
     ]
    }
   ],
   "source": [
    "grid = get_alameda_county_points()"
   ]
  },
  {
   "cell_type": "code",
   "execution_count": 4,
   "metadata": {},
   "outputs": [
    {
     "data": {
      "image/png": "[encoded data removed]",
      "text/plain": [
       "<Figure size 432x288 with 1 Axes>"
      ]
     },
     "metadata": {},
     "output_type": "display_data"
    }
   ],
   "source": [
    "lat_list = []\n",
    "lon_list = []\n",
    "for lat, lon in grid:\n",
    "    lat_list.append(lat)\n",
    "    lon_list.append(lon)\n",
    "    \n",
    "plt.scatter(lat_list,lon_list)\n",
    "plt.xlabel(\"Latitude\")\n",
    "plt.ylabel(\"Longitude\")\n",
    "plt.title(\"Alameda County coordinates\")\n",
    "plt.show()"
   ]
  },
  {
   "cell_type": "markdown",
   "metadata": {},
   "source": [
    "We find weather stations within *x* miles of Alameda County by using our grid as a proxy for the county. For each point in the grid, we parse through the dataset of weather stations and include each weather station that's within the *x* mile radius of the point. We mantain a set of included weather stations to eliminate duplicates in our list. "
   ]
  },
  {
   "cell_type": "code",
   "execution_count": 5,
   "metadata": {},
   "outputs": [],
   "source": [
    "def get_stations(grid_points, max_distance=10):\n",
    "    \"\"\" Find all weather stations within max_distance (miles) from each of the grid points\n",
    "\n",
    "    args:\n",
    "        grid_points: list of grid points (lat, lon)\n",
    "        max_distance: max distance to search around each grid point (default 10)\n",
    "    return:\n",
    "        list: list of weather stations (Series objects)\n",
    "    \"\"\"\n",
    "    station_data = pd.read_csv('./data/stations_ca.csv')\n",
    "\n",
    "    seen_stations = set()\n",
    "    stations = []\n",
    "\n",
    "    for point in grid_points:\n",
    "        for index, station in station_data.iterrows():\n",
    "            station_loc = (station['LATITUDE'], station['LONGITUDE'])\n",
    "            if gd.vincenty(point, station_loc).miles <= max_distance and index not in seen_stations:\n",
    "                seen_stations.add(index)\n",
    "                stations.append(station)\n",
    "    \n",
    "    return stations"
   ]
  },
  {
   "cell_type": "markdown",
   "metadata": {},
   "source": [
    "We get station weights by taking the latitude and longitude coordinates for all of our weather stations / Alameda county grid points, then calculating the inverse weighted averages for these coordinates."
   ]
  },
  {
   "cell_type": "code",
   "execution_count": 6,
   "metadata": {},
   "outputs": [],
   "source": [
    "def get_station_weights(grid_points, max_distance=10):\n",
    "    \"\"\" Returns a list of weights corresponding to all the weather stations around grid points\n",
    "\n",
    "    args:\n",
    "        grid_points: list of grid points (lat, lon)\n",
    "        max_distance: max distance to search around each grid point (default 10) \n",
    "    return:\n",
    "        list: list of station weights (floats), one for each station\n",
    "    \"\"\"\n",
    "    stations = get_stations(grid_points, max_distance)\n",
    "    station_pos = [(station['LATITUDE'], station['LONGITUDE']) for station in stations]\n",
    "    station_weights = calc_inv_weighted_avg(grid_points, station_pos)\n",
    "    return station_weights"
   ]
  },
  {
   "cell_type": "code",
   "execution_count": 7,
   "metadata": {},
   "outputs": [],
   "source": [
    "station_weights = get_station_weights(grid)"
   ]
  },
  {
   "cell_type": "code",
   "execution_count": 8,
   "metadata": {},
   "outputs": [
    {
     "data": {
      "image/png": "[encoded data removed]",
      "text/plain": [
       "<Figure size 432x288 with 1 Axes>"
      ]
     },
     "metadata": {},
     "output_type": "display_data"
    }
   ],
   "source": [
    "plt.hist(station_weights)\n",
    "plt.xlabel(\"Weight of weather stations\")\n",
    "plt.title(\"Weights histogram\")\n",
    "plt.show()"
   ]
  }
 ],
 "metadata": {
  "kernelspec": {
   "display_name": "Python 3",
   "language": "python",
   "name": "python3"
  },
  "language_info": {
   "codemirror_mode": {
    "name": "ipython",
    "version": 3
   },
   "file_extension": ".py",
   "mimetype": "text/x-python",
   "name": "python",
   "nbconvert_exporter": "python",
   "pygments_lexer": "ipython3",
   "version": "3.6.8"
  }
 },
 "nbformat": 4,
 "nbformat_minor": 2
}
